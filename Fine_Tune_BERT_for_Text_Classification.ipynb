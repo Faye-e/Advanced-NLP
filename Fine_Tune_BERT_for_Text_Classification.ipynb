{
  "nbformat": 4,
  "nbformat_minor": 0,
  "metadata": {
    "colab": {
      "name": "Fine-Tune-BERT-for-Text-Classification.ipynb",
      "provenance": [],
      "collapsed_sections": [],
      "authorship_tag": "ABX9TyNgJk8bbXLMP2GuTa69xwzP"
    },
    "kernelspec": {
      "name": "python3",
      "display_name": "Python 3"
    },
    "language_info": {
      "name": "python"
    },
    "accelerator": "GPU"
  },
  "cells": [
    {
      "cell_type": "markdown",
      "source": [
        "# Fine-Tune BERT for Text Classification with TensorFlow"
      ],
      "metadata": {
        "id": "DfDV_L50lH9m"
      }
    },
    {
      "cell_type": "markdown",
      "source": [
        "## Overview"
      ],
      "metadata": {
        "id": "Yocs0RTDlUNC"
      }
    },
    {
      "cell_type": "markdown",
      "source": [
        "In this project, we will use TensorFlow and TF-Hub to fine-tune a BERT model (BIRT: Bidirectional Embedding Representations from Transformers) for text classification. To train such a model, we mainly have to train the classifier, with minimal changes happening to the BERT model during the training phase. This training process is called Fine-Tuning, and has roots in Semi-supervised Sequence Learning and ULMFiT (https://jalammar.github.io/illustrated-bert/). \n",
        "We use a pre-trained BERT model that is [available](https://tfhub.dev/tensorflow/bert_en_uncased_L-12_H-768_A-12/2) on [TensorFlow Hub](https://tfhub.dev/). \n",
        "\n",
        "The objective of this project is to:\n",
        "- Build TensorFlow Input Pipelines for Text Data with the [`tf.data`](https://www.tensorflow.org/api_docs/python/tf/data) API\n",
        "- Tokenize and Preprocess Text for BERT\n",
        "- Fine-tune BERT for text classification with TensorFlow 2 and [TF Hub](https://tfhub.dev)\n",
        "\n",
        "For this project, we will be using a [data set](https://www.kaggle.com/c/quora-insincere-questions-classification) provided y **Quora** on  **Kaggle** to detect toxic online content to improve the quality of discussions and conversations we have online. **Quora**  is one of the well-known question and answering websites that provided this dataset as a competition on Kaggle. The data is labeled and contains questions asked on Quora and corresponding labels that indicate whether the question was insincere or not. Insincere questions are considered to be toxic, these questions can have a non-neutral tone, could be aggressive or disparaging, or inflammatory or based on false information, or containing sexual content for shock value and so on. If the question is insincere, it is labeled as 1, and a non-toxic question is labeled as 0.\n",
        "\n",
        "There are some preprocessing steps that are required to get the raw input data to a format that BIRT accepts as input. However, luckily for us, the official TensorFlow models repositories has sub modules and tokenizers that do these preprocessing for us. So, we are not going to do any additional preprocessing manually, like lower casing, stemming, removing stop words and so on. Because, the module that we will be using from TensorFlow Hub along with the submodules and helper functions from the official model repository is going to take care of this for us."
      ],
      "metadata": {
        "id": "xVW-A-PhlW6g"
      }
    },
    {
      "cell_type": "markdown",
      "source": [
        "To verify that we have GPU available, we can execute the folloing cell which show us basic information about our GPU."
      ],
      "metadata": {
        "id": "DAbDE5L5qH8w"
      }
    },
    {
      "cell_type": "code",
      "source": [
        "!nvidia-smi"
      ],
      "metadata": {
        "colab": {
          "base_uri": "https://localhost:8080/"
        },
        "id": "vdY76EFVm01S",
        "outputId": "9b0b0b94-e87e-4b4d-99fc-c3b935460e80"
      },
      "execution_count": 1,
      "outputs": [
        {
          "output_type": "stream",
          "name": "stdout",
          "text": [
            "Mon Jan 10 19:51:46 2022       \n",
            "+-----------------------------------------------------------------------------+\n",
            "| NVIDIA-SMI 495.46       Driver Version: 460.32.03    CUDA Version: 11.2     |\n",
            "|-------------------------------+----------------------+----------------------+\n",
            "| GPU  Name        Persistence-M| Bus-Id        Disp.A | Volatile Uncorr. ECC |\n",
            "| Fan  Temp  Perf  Pwr:Usage/Cap|         Memory-Usage | GPU-Util  Compute M. |\n",
            "|                               |                      |               MIG M. |\n",
            "|===============================+======================+======================|\n",
            "|   0  Tesla K80           Off  | 00000000:00:04.0 Off |                    0 |\n",
            "| N/A   68C    P8    32W / 149W |      0MiB / 11441MiB |      0%      Default |\n",
            "|                               |                      |                  N/A |\n",
            "+-------------------------------+----------------------+----------------------+\n",
            "                                                                               \n",
            "+-----------------------------------------------------------------------------+\n",
            "| Processes:                                                                  |\n",
            "|  GPU   GI   CI        PID   Type   Process name                  GPU Memory |\n",
            "|        ID   ID                                                   Usage      |\n",
            "|=============================================================================|\n",
            "|  No running processes found                                                 |\n",
            "+-----------------------------------------------------------------------------+\n"
          ]
        }
      ]
    },
    {
      "cell_type": "markdown",
      "source": [
        "## 1. Install TensorFlow and TensorFlow Model Garden and Import Dependencies"
      ],
      "metadata": {
        "id": "ae8epLRulnTp"
      }
    },
    {
      "cell_type": "code",
      "execution_count": 2,
      "metadata": {
        "colab": {
          "base_uri": "https://localhost:8080/"
        },
        "id": "YorXRFSYlArS",
        "outputId": "a57a2cb8-0bbd-4d94-db5f-c7ed55bce495"
      },
      "outputs": [
        {
          "output_type": "stream",
          "name": "stdout",
          "text": [
            "2.7.0\n"
          ]
        }
      ],
      "source": [
        "import tensorflow as tf\n",
        "print(tf.version.VERSION)"
      ]
    },
    {
      "cell_type": "code",
      "source": [
        "# if tf is not installed, use the following\n",
        "!pip install -q tensorflow==2.7.0"
      ],
      "metadata": {
        "id": "tzzci9SMm9rr"
      },
      "execution_count": 3,
      "outputs": []
    },
    {
      "cell_type": "code",
      "source": [
        "!git clone --depth 1 -b v2.3.0 https://github.com/tensorflow/models.git"
      ],
      "metadata": {
        "colab": {
          "base_uri": "https://localhost:8080/"
        },
        "id": "XC2Y4Sr7nKQl",
        "outputId": "c068d6b7-d364-4ac0-daa1-32e624a7cd22"
      },
      "execution_count": 3,
      "outputs": [
        {
          "output_type": "stream",
          "name": "stdout",
          "text": [
            "Cloning into 'models'...\n",
            "remote: Enumerating objects: 2650, done.\u001b[K\n",
            "remote: Counting objects: 100% (2650/2650), done.\u001b[K\n",
            "remote: Compressing objects: 100% (2311/2311), done.\u001b[K\n",
            "remote: Total 2650 (delta 506), reused 1388 (delta 306), pack-reused 0\u001b[K\n",
            "Receiving objects: 100% (2650/2650), 34.02 MiB | 17.65 MiB/s, done.\n",
            "Resolving deltas: 100% (506/506), done.\n",
            "Note: checking out '400d68abbccda2f0f6609e3a924467718b144233'.\n",
            "\n",
            "You are in 'detached HEAD' state. You can look around, make experimental\n",
            "changes and commit them, and you can discard any commits you make in this\n",
            "state without impacting any branches by performing another checkout.\n",
            "\n",
            "If you want to create a new branch to retain commits you create, you may\n",
            "do so (now or later) by using -b with the checkout command again. Example:\n",
            "\n",
            "  git checkout -b <new-branch-name>\n",
            "\n"
          ]
        }
      ]
    },
    {
      "cell_type": "code",
      "source": [
        "# install requirements to use tensorflow/models repository\n",
        "!pip install -Uqr models/official/requirements.txt"
      ],
      "metadata": {
        "colab": {
          "base_uri": "https://localhost:8080/"
        },
        "id": "3qk4LaEQnXuW",
        "outputId": "93522ba7-84da-4386-f3c4-9fd13441def7"
      },
      "execution_count": 4,
      "outputs": [
        {
          "output_type": "stream",
          "name": "stdout",
          "text": [
            "\u001b[K     |████████████████████████████████| 7.9 MB 13.3 MB/s \n",
            "\u001b[K     |████████████████████████████████| 205 kB 50.0 MB/s \n",
            "\u001b[K     |████████████████████████████████| 15.7 MB 43.4 MB/s \n",
            "\u001b[K     |████████████████████████████████| 11.3 MB 42.0 MB/s \n",
            "\u001b[K     |████████████████████████████████| 280 kB 34.5 MB/s \n",
            "\u001b[K     |████████████████████████████████| 99 kB 9.9 MB/s \n",
            "\u001b[K     |████████████████████████████████| 38.1 MB 1.2 MB/s \n",
            "\u001b[K     |████████████████████████████████| 213 kB 53.3 MB/s \n",
            "\u001b[K     |████████████████████████████████| 4.0 MB 51.3 MB/s \n",
            "\u001b[K     |████████████████████████████████| 1.1 MB 42.7 MB/s \n",
            "\u001b[K     |████████████████████████████████| 352 kB 52.8 MB/s \n",
            "\u001b[K     |████████████████████████████████| 1.2 MB 39.9 MB/s \n",
            "\u001b[K     |████████████████████████████████| 1.9 MB 40.7 MB/s \n",
            "\u001b[K     |████████████████████████████████| 11.2 MB 22.1 MB/s \n",
            "\u001b[K     |████████████████████████████████| 47.7 MB 1.8 MB/s \n",
            "\u001b[K     |████████████████████████████████| 596 kB 51.2 MB/s \n",
            "\u001b[K     |████████████████████████████████| 4.3 MB 35.3 MB/s \n",
            "\u001b[K     |████████████████████████████████| 109 kB 53.1 MB/s \n",
            "\u001b[K     |████████████████████████████████| 75 kB 4.4 MB/s \n",
            "\u001b[K     |████████████████████████████████| 45 kB 3.4 MB/s \n",
            "\u001b[K     |████████████████████████████████| 890 kB 47.4 MB/s \n",
            "\u001b[K     |████████████████████████████████| 4.1 MB 31.8 MB/s \n",
            "\u001b[K     |████████████████████████████████| 1.1 MB 47.9 MB/s \n",
            "\u001b[?25h  Building wheel for py-cpuinfo (setup.py) ... \u001b[?25l\u001b[?25hdone\n",
            "\u001b[31mERROR: pip's dependency resolver does not currently take into account all the packages that are installed. This behaviour is the source of the following dependency conflicts.\n",
            "yellowbrick 1.3.post1 requires numpy<1.20,>=1.16.0, but you have numpy 1.21.5 which is incompatible.\n",
            "pandas-gbq 0.13.3 requires google-cloud-bigquery[bqstorage,pandas]<2.0.0dev,>=1.11.1, but you have google-cloud-bigquery 2.31.0 which is incompatible.\n",
            "google-colab 1.0.0 requires pandas~=1.1.0; python_version >= \"3.0\", but you have pandas 1.3.5 which is incompatible.\n",
            "google-colab 1.0.0 requires six~=1.15.0, but you have six 1.16.0 which is incompatible.\n",
            "google-cloud-translate 1.5.0 requires google-api-core[grpc]<2.0.0dev,>=1.6.0, but you have google-api-core 2.3.2 which is incompatible.\n",
            "google-cloud-translate 1.5.0 requires google-cloud-core<2.0dev,>=1.0.0, but you have google-cloud-core 2.2.1 which is incompatible.\n",
            "google-cloud-storage 1.18.1 requires google-cloud-core<2.0dev,>=1.0.0, but you have google-cloud-core 2.2.1 which is incompatible.\n",
            "google-cloud-storage 1.18.1 requires google-resumable-media<0.5.0dev,>=0.3.1, but you have google-resumable-media 2.1.0 which is incompatible.\n",
            "google-cloud-language 1.2.0 requires google-api-core[grpc]<2.0.0dev,>=1.6.0, but you have google-api-core 2.3.2 which is incompatible.\n",
            "google-cloud-firestore 1.7.0 requires google-api-core[grpc]<2.0.0dev,>=1.14.0, but you have google-api-core 2.3.2 which is incompatible.\n",
            "google-cloud-firestore 1.7.0 requires google-cloud-core<2.0dev,>=1.0.3, but you have google-cloud-core 2.2.1 which is incompatible.\n",
            "google-cloud-datastore 1.8.0 requires google-api-core[grpc]<2.0.0dev,>=1.6.0, but you have google-api-core 2.3.2 which is incompatible.\n",
            "google-cloud-datastore 1.8.0 requires google-cloud-core<2.0dev,>=1.0.0, but you have google-cloud-core 2.2.1 which is incompatible.\n",
            "google-cloud-bigquery-storage 1.1.0 requires google-api-core[grpc]<2.0.0dev,>=1.14.0, but you have google-api-core 2.3.2 which is incompatible.\n",
            "firebase-admin 4.4.0 requires google-api-core[grpc]<2.0.0dev,>=1.14.0; platform_python_implementation != \"PyPy\", but you have google-api-core 2.3.2 which is incompatible.\n",
            "earthengine-api 0.1.290 requires google-api-python-client<2,>=1.12.1, but you have google-api-python-client 2.34.0 which is incompatible.\n",
            "datascience 0.10.6 requires folium==0.2.1, but you have folium 0.8.3 which is incompatible.\n",
            "albumentations 0.1.12 requires imgaug<0.2.7,>=0.2.5, but you have imgaug 0.2.9 which is incompatible.\u001b[0m\n"
          ]
        }
      ]
    },
    {
      "cell_type": "code",
      "source": [
        "# import dependencies\n",
        "import numpy as np\n",
        "import pandas as pd\n",
        "import matplotlib.pyplot as plt\n",
        "from sklearn.model_selection import train_test_split\n",
        "import tensorflow as tf\n",
        "import tensorflow_hub as hub\n",
        "import sys\n",
        "sys.path.append('models')\n",
        "from official.nlp.data import classifier_data_lib\n",
        "from official.nlp.bert import tokenization\n",
        "from official.nlp import optimization\n",
        "\n",
        "\n",
        "print(\"TF Version: \", tf.__version__)\n",
        "print(\"Eager mode: \", tf.executing_eagerly())\n",
        "print(\"Hub version: \", hub.__version__)\n",
        "print(\"GPU is\", \"available\" if tf.config.experimental.list_physical_devices(\"GPU\") else \"NOT AVAILABLE\")"
      ],
      "metadata": {
        "colab": {
          "base_uri": "https://localhost:8080/"
        },
        "id": "GiwIHvtjnZ1z",
        "outputId": "763419e2-4aa4-453a-915d-ce3408135c97"
      },
      "execution_count": 1,
      "outputs": [
        {
          "output_type": "stream",
          "name": "stdout",
          "text": [
            "TF Version:  2.7.0\n",
            "Eager mode:  True\n",
            "Hub version:  0.12.0\n",
            "GPU is available\n"
          ]
        }
      ]
    },
    {
      "cell_type": "markdown",
      "source": [
        "## 2. Download and Import the Quora Dataset"
      ],
      "metadata": {
        "id": "cZDPoo3joi9N"
      }
    },
    {
      "cell_type": "markdown",
      "source": [
        "You can download the dataset from https://www.kaggle.com/c/quora-insincere-questions-classification/data and use the path on your local computer to read the data into a pandas DataFrame and investigate it. A downloadable copy of the [Quora Insincere Questions Classification data](https://www.kaggle.com/c/quora-insincere-questions-classification/data) can be found [https://archive.org/download/fine-tune-bert-tensorflow-train.csv/train.csv.zip](https://archive.org/download/fine-tune-bert-tensorflow-train.csv/train.csv.zip)."
      ],
      "metadata": {
        "id": "KQ_2C7psol0a"
      }
    },
    {
      "cell_type": "code",
      "source": [
        "df = pd.read_csv('https://archive.org/download/fine-tune-bert-tensorflow-train.csv/train.csv.zip',\n",
        "                 compression='zip', low_memory=False)"
      ],
      "metadata": {
        "id": "KmBhLzIWoX2e"
      },
      "execution_count": 2,
      "outputs": []
    },
    {
      "cell_type": "code",
      "source": [
        "df.shape"
      ],
      "metadata": {
        "colab": {
          "base_uri": "https://localhost:8080/"
        },
        "id": "Marfdnk1oxQZ",
        "outputId": "e6aa785d-3c63-4635-e967-bff893871e9f"
      },
      "execution_count": 3,
      "outputs": [
        {
          "output_type": "execute_result",
          "data": {
            "text/plain": [
              "(1306122, 3)"
            ]
          },
          "metadata": {},
          "execution_count": 3
        }
      ]
    },
    {
      "cell_type": "markdown",
      "source": [
        "We can see that the dataset is huge and it take hours if we want to fine-tune BIRT on all of it. But, since BIRT is trained on a massive amount of data we only need to provide a small amount of data for fine-tuning. So, we are going to fine-tuning only on a very small fraction on the order of around 10,00 samples from training set and validation on 1000 samples."
      ],
      "metadata": {
        "id": "Kw6k2oydw-jG"
      }
    },
    {
      "cell_type": "code",
      "source": [
        "# exploring the dataset\n",
        "df.tail(20)"
      ],
      "metadata": {
        "colab": {
          "base_uri": "https://localhost:8080/",
          "height": 676
        },
        "id": "aIfdOL0voyOh",
        "outputId": "3e967ed8-fde6-4696-b959-93513ed590ad"
      },
      "execution_count": 4,
      "outputs": [
        {
          "output_type": "execute_result",
          "data": {
            "text/html": [
              "\n",
              "  <div id=\"df-85c2396f-b215-40c3-8dc4-0b600e6d16f4\">\n",
              "    <div class=\"colab-df-container\">\n",
              "      <div>\n",
              "<style scoped>\n",
              "    .dataframe tbody tr th:only-of-type {\n",
              "        vertical-align: middle;\n",
              "    }\n",
              "\n",
              "    .dataframe tbody tr th {\n",
              "        vertical-align: top;\n",
              "    }\n",
              "\n",
              "    .dataframe thead th {\n",
              "        text-align: right;\n",
              "    }\n",
              "</style>\n",
              "<table border=\"1\" class=\"dataframe\">\n",
              "  <thead>\n",
              "    <tr style=\"text-align: right;\">\n",
              "      <th></th>\n",
              "      <th>qid</th>\n",
              "      <th>question_text</th>\n",
              "      <th>target</th>\n",
              "    </tr>\n",
              "  </thead>\n",
              "  <tbody>\n",
              "    <tr>\n",
              "      <th>1306102</th>\n",
              "      <td>ffff3778790af9baae76</td>\n",
              "      <td>What steps can I take to live a normal life if...</td>\n",
              "      <td>0</td>\n",
              "    </tr>\n",
              "    <tr>\n",
              "      <th>1306103</th>\n",
              "      <td>ffff3f0a2449ffe4b9ff</td>\n",
              "      <td>Isn't Trump right after all? Why should the US...</td>\n",
              "      <td>1</td>\n",
              "    </tr>\n",
              "    <tr>\n",
              "      <th>1306104</th>\n",
              "      <td>ffff41393389d4206066</td>\n",
              "      <td>Is 33 too late for a career in creative advert...</td>\n",
              "      <td>0</td>\n",
              "    </tr>\n",
              "    <tr>\n",
              "      <th>1306105</th>\n",
              "      <td>ffff42493fc203cd9532</td>\n",
              "      <td>What is difference between the filteration wor...</td>\n",
              "      <td>0</td>\n",
              "    </tr>\n",
              "    <tr>\n",
              "      <th>1306106</th>\n",
              "      <td>ffff48dd47bee89fff79</td>\n",
              "      <td>If the universe \"popped\" into existence from n...</td>\n",
              "      <td>0</td>\n",
              "    </tr>\n",
              "    <tr>\n",
              "      <th>1306107</th>\n",
              "      <td>ffff5fd051a032f32a39</td>\n",
              "      <td>How does a shared service technology team meas...</td>\n",
              "      <td>0</td>\n",
              "    </tr>\n",
              "    <tr>\n",
              "      <th>1306108</th>\n",
              "      <td>ffff6d528040d3888b93</td>\n",
              "      <td>How is DSATM civil engineering?</td>\n",
              "      <td>0</td>\n",
              "    </tr>\n",
              "    <tr>\n",
              "      <th>1306109</th>\n",
              "      <td>ffff8776cd30cdc8d7f8</td>\n",
              "      <td>Do you know any problem that depends solely on...</td>\n",
              "      <td>0</td>\n",
              "    </tr>\n",
              "    <tr>\n",
              "      <th>1306110</th>\n",
              "      <td>ffff94d427ade3716cd1</td>\n",
              "      <td>What are some comic ideas for you Tube videos ...</td>\n",
              "      <td>0</td>\n",
              "    </tr>\n",
              "    <tr>\n",
              "      <th>1306111</th>\n",
              "      <td>ffffa382c58368071dc9</td>\n",
              "      <td>If you had $10 million of Bitcoin, could you s...</td>\n",
              "      <td>0</td>\n",
              "    </tr>\n",
              "    <tr>\n",
              "      <th>1306112</th>\n",
              "      <td>ffffa5b0fa76431c063f</td>\n",
              "      <td>Are you ashamed of being an Indian?</td>\n",
              "      <td>1</td>\n",
              "    </tr>\n",
              "    <tr>\n",
              "      <th>1306113</th>\n",
              "      <td>ffffae5dbda3dc9e9771</td>\n",
              "      <td>What are the methods to determine fossil ages ...</td>\n",
              "      <td>0</td>\n",
              "    </tr>\n",
              "    <tr>\n",
              "      <th>1306114</th>\n",
              "      <td>ffffba7c4888798571c1</td>\n",
              "      <td>What is your story today?</td>\n",
              "      <td>0</td>\n",
              "    </tr>\n",
              "    <tr>\n",
              "      <th>1306115</th>\n",
              "      <td>ffffc0c7158658a06fd9</td>\n",
              "      <td>How do I consume 150 gms protein daily both ve...</td>\n",
              "      <td>0</td>\n",
              "    </tr>\n",
              "    <tr>\n",
              "      <th>1306116</th>\n",
              "      <td>ffffc404da586ac5a08f</td>\n",
              "      <td>What are the good career options for a msc che...</td>\n",
              "      <td>0</td>\n",
              "    </tr>\n",
              "    <tr>\n",
              "      <th>1306117</th>\n",
              "      <td>ffffcc4e2331aaf1e41e</td>\n",
              "      <td>What other technical skills do you need as a c...</td>\n",
              "      <td>0</td>\n",
              "    </tr>\n",
              "    <tr>\n",
              "      <th>1306118</th>\n",
              "      <td>ffffd431801e5a2f4861</td>\n",
              "      <td>Does MS in ECE have good job prospects in USA ...</td>\n",
              "      <td>0</td>\n",
              "    </tr>\n",
              "    <tr>\n",
              "      <th>1306119</th>\n",
              "      <td>ffffd48fb36b63db010c</td>\n",
              "      <td>Is foam insulation toxic?</td>\n",
              "      <td>0</td>\n",
              "    </tr>\n",
              "    <tr>\n",
              "      <th>1306120</th>\n",
              "      <td>ffffec519fa37cf60c78</td>\n",
              "      <td>How can one start a research project based on ...</td>\n",
              "      <td>0</td>\n",
              "    </tr>\n",
              "    <tr>\n",
              "      <th>1306121</th>\n",
              "      <td>ffffed09fedb5088744a</td>\n",
              "      <td>Who wins in a battle between a Wolverine and a...</td>\n",
              "      <td>0</td>\n",
              "    </tr>\n",
              "  </tbody>\n",
              "</table>\n",
              "</div>\n",
              "      <button class=\"colab-df-convert\" onclick=\"convertToInteractive('df-85c2396f-b215-40c3-8dc4-0b600e6d16f4')\"\n",
              "              title=\"Convert this dataframe to an interactive table.\"\n",
              "              style=\"display:none;\">\n",
              "        \n",
              "  <svg xmlns=\"http://www.w3.org/2000/svg\" height=\"24px\"viewBox=\"0 0 24 24\"\n",
              "       width=\"24px\">\n",
              "    <path d=\"M0 0h24v24H0V0z\" fill=\"none\"/>\n",
              "    <path d=\"M18.56 5.44l.94 2.06.94-2.06 2.06-.94-2.06-.94-.94-2.06-.94 2.06-2.06.94zm-11 1L8.5 8.5l.94-2.06 2.06-.94-2.06-.94L8.5 2.5l-.94 2.06-2.06.94zm10 10l.94 2.06.94-2.06 2.06-.94-2.06-.94-.94-2.06-.94 2.06-2.06.94z\"/><path d=\"M17.41 7.96l-1.37-1.37c-.4-.4-.92-.59-1.43-.59-.52 0-1.04.2-1.43.59L10.3 9.45l-7.72 7.72c-.78.78-.78 2.05 0 2.83L4 21.41c.39.39.9.59 1.41.59.51 0 1.02-.2 1.41-.59l7.78-7.78 2.81-2.81c.8-.78.8-2.07 0-2.86zM5.41 20L4 18.59l7.72-7.72 1.47 1.35L5.41 20z\"/>\n",
              "  </svg>\n",
              "      </button>\n",
              "      \n",
              "  <style>\n",
              "    .colab-df-container {\n",
              "      display:flex;\n",
              "      flex-wrap:wrap;\n",
              "      gap: 12px;\n",
              "    }\n",
              "\n",
              "    .colab-df-convert {\n",
              "      background-color: #E8F0FE;\n",
              "      border: none;\n",
              "      border-radius: 50%;\n",
              "      cursor: pointer;\n",
              "      display: none;\n",
              "      fill: #1967D2;\n",
              "      height: 32px;\n",
              "      padding: 0 0 0 0;\n",
              "      width: 32px;\n",
              "    }\n",
              "\n",
              "    .colab-df-convert:hover {\n",
              "      background-color: #E2EBFA;\n",
              "      box-shadow: 0px 1px 2px rgba(60, 64, 67, 0.3), 0px 1px 3px 1px rgba(60, 64, 67, 0.15);\n",
              "      fill: #174EA6;\n",
              "    }\n",
              "\n",
              "    [theme=dark] .colab-df-convert {\n",
              "      background-color: #3B4455;\n",
              "      fill: #D2E3FC;\n",
              "    }\n",
              "\n",
              "    [theme=dark] .colab-df-convert:hover {\n",
              "      background-color: #434B5C;\n",
              "      box-shadow: 0px 1px 3px 1px rgba(0, 0, 0, 0.15);\n",
              "      filter: drop-shadow(0px 1px 2px rgba(0, 0, 0, 0.3));\n",
              "      fill: #FFFFFF;\n",
              "    }\n",
              "  </style>\n",
              "\n",
              "      <script>\n",
              "        const buttonEl =\n",
              "          document.querySelector('#df-85c2396f-b215-40c3-8dc4-0b600e6d16f4 button.colab-df-convert');\n",
              "        buttonEl.style.display =\n",
              "          google.colab.kernel.accessAllowed ? 'block' : 'none';\n",
              "\n",
              "        async function convertToInteractive(key) {\n",
              "          const element = document.querySelector('#df-85c2396f-b215-40c3-8dc4-0b600e6d16f4');\n",
              "          const dataTable =\n",
              "            await google.colab.kernel.invokeFunction('convertToInteractive',\n",
              "                                                     [key], {});\n",
              "          if (!dataTable) return;\n",
              "\n",
              "          const docLinkHtml = 'Like what you see? Visit the ' +\n",
              "            '<a target=\"_blank\" href=https://colab.research.google.com/notebooks/data_table.ipynb>data table notebook</a>'\n",
              "            + ' to learn more about interactive tables.';\n",
              "          element.innerHTML = '';\n",
              "          dataTable['output_type'] = 'display_data';\n",
              "          await google.colab.output.renderOutput(dataTable, element);\n",
              "          const docLink = document.createElement('div');\n",
              "          docLink.innerHTML = docLinkHtml;\n",
              "          element.appendChild(docLink);\n",
              "        }\n",
              "      </script>\n",
              "    </div>\n",
              "  </div>\n",
              "  "
            ],
            "text/plain": [
              "                          qid  ... target\n",
              "1306102  ffff3778790af9baae76  ...      0\n",
              "1306103  ffff3f0a2449ffe4b9ff  ...      1\n",
              "1306104  ffff41393389d4206066  ...      0\n",
              "1306105  ffff42493fc203cd9532  ...      0\n",
              "1306106  ffff48dd47bee89fff79  ...      0\n",
              "1306107  ffff5fd051a032f32a39  ...      0\n",
              "1306108  ffff6d528040d3888b93  ...      0\n",
              "1306109  ffff8776cd30cdc8d7f8  ...      0\n",
              "1306110  ffff94d427ade3716cd1  ...      0\n",
              "1306111  ffffa382c58368071dc9  ...      0\n",
              "1306112  ffffa5b0fa76431c063f  ...      1\n",
              "1306113  ffffae5dbda3dc9e9771  ...      0\n",
              "1306114  ffffba7c4888798571c1  ...      0\n",
              "1306115  ffffc0c7158658a06fd9  ...      0\n",
              "1306116  ffffc404da586ac5a08f  ...      0\n",
              "1306117  ffffcc4e2331aaf1e41e  ...      0\n",
              "1306118  ffffd431801e5a2f4861  ...      0\n",
              "1306119  ffffd48fb36b63db010c  ...      0\n",
              "1306120  ffffec519fa37cf60c78  ...      0\n",
              "1306121  ffffed09fedb5088744a  ...      0\n",
              "\n",
              "[20 rows x 3 columns]"
            ]
          },
          "metadata": {},
          "execution_count": 4
        }
      ]
    },
    {
      "cell_type": "markdown",
      "source": [
        "The dataset has three columns. The column `qid` does not have any predictive power, so we will drop it later. Then we have the questions column and the binary target. Let's see the distribution of class labels to know how the dataset looks like. In this way we can get an idea of an imbalanced data set. "
      ],
      "metadata": {
        "id": "EToxH4zuzAq3"
      }
    },
    {
      "cell_type": "code",
      "source": [
        "df.target.plot(kind='hist', title='Target Distribution')"
      ],
      "metadata": {
        "colab": {
          "base_uri": "https://localhost:8080/",
          "height": 298
        },
        "id": "WA9mf95Py_oB",
        "outputId": "e0507de8-1cf2-4d92-a144-5c3a949758fe"
      },
      "execution_count": 5,
      "outputs": [
        {
          "output_type": "execute_result",
          "data": {
            "text/plain": [
              "<AxesSubplot:title={'center':'Target Distribution'}, ylabel='Frequency'>"
            ]
          },
          "metadata": {},
          "execution_count": 5
        },
        {
          "output_type": "display_data",
          "data": {
            "image/png": "[encoded data removed]",
            "text/plain": [
              "<Figure size 432x288 with 1 Axes>"
            ]
          },
          "metadata": {
            "needs_background": "light"
          }
        }
      ]
    },
    {
      "cell_type": "markdown",
      "source": [
        "This is a highly skewed graph where we have a clear imbalance problem such that the majority questions within this dataset are sincere, and we will have to account for this in the modeling process. There are many ways to address this problem; the approach we are going to be using is **stratified sampling**. So, in the next step, we will split the data for training and validation and by using stratify based on the target column."
      ],
      "metadata": {
        "id": "hH8Ayf7_0XMb"
      }
    },
    {
      "cell_type": "markdown",
      "source": [
        "## 3. Create tf.data.Datasets for Training and Evaluation"
      ],
      "metadata": {
        "id": "uRJURWiWoy38"
      }
    },
    {
      "cell_type": "code",
      "source": [
        "train_df, remaining = train_test_split(df, random_state=42, train_size=0.0075, stratify=df.target.values) # we want 75% of the data, about 10,000 samples\n",
        "valid_df, _ = train_test_split(remaining, random_state=42, train_size=0.00075, stratify=remaining.target.values) # about 2000 samples for validation\n",
        "\n",
        "train_df.shape, valid_df.shape "
      ],
      "metadata": {
        "colab": {
          "base_uri": "https://localhost:8080/"
        },
        "id": "c4NsY0qAo3CI",
        "outputId": "5dbbdaa8-ea50-4f7e-df46-a0517835600f"
      },
      "execution_count": 6,
      "outputs": [
        {
          "output_type": "execute_result",
          "data": {
            "text/plain": [
              "((9795, 3), (972, 3))"
            ]
          },
          "metadata": {},
          "execution_count": 6
        }
      ]
    },
    {
      "cell_type": "markdown",
      "source": [
        "GPUs and TPUs can radically reduce the time required to execute a single training step and acheiving peak performance requires an efficient input pipeline that delivers data for the next step before the current step has finished. The `tf.data` API helps us to build this flexible and efficient input pipeline.\n",
        "\n",
        "During training many input elements need to be preprocessed; we need to convert them to the format of token ids, mask ids, and input type ids so that BIRT can accept them as an input. The `tf.data` API offers the `tf.data.Dataset` map transformation which applies a user defined function to each element of input dataset, and because input elements are independent from one another, the preprocessing step can be parallelized accross multiple CPU cores. To make this possible, the map transformation from `tf.data` API provides an argument where we can specify the level of parallelism that we want during preprocessing. So, what we can do is to do all the preprocessing on CPU and in that way there is no GPU overhead. \n",
        "\n",
        "To create an input pipeline, we must start with a data souurce. For example, to construct a dataset from data in memory we can use the `tf.data.Dataset.from_tensors` method, or the `tf.data.dataset.from_tensor_slices` method. And the return dataset object is a python iterable, which makes it possible to consume its elements using a for-loop.\n",
        "\n"
      ],
      "metadata": {
        "id": "U1WpvDaqtKWi"
      }
    },
    {
      "cell_type": "code",
      "source": [
        "with tf.device('/cpu:0'):\n",
        "  train_data = tf.data.Dataset.from_tensor_slices((train_df['question_text'].values, train_df['target'].values))\n",
        "  valid_data = tf.data.Dataset.from_tensor_slices((valid_df.question_text.values, valid_df.target.values))\n",
        "\n",
        "  for text, label in train_data.take(1): # we want to see only one sample\n",
        "    print(text)\n",
        "    print(label) "
      ],
      "metadata": {
        "colab": {
          "base_uri": "https://localhost:8080/"
        },
        "id": "Qsfg4Pbio9E3",
        "outputId": "b9284f39-93d3-430a-ba88-ab64f8494742"
      },
      "execution_count": 7,
      "outputs": [
        {
          "output_type": "stream",
          "name": "stdout",
          "text": [
            "tf.Tensor(b'Why are unhealthy relationships so desirable?', shape=(), dtype=string)\n",
            "tf.Tensor(0, shape=(), dtype=int64)\n"
          ]
        }
      ]
    },
    {
      "cell_type": "markdown",
      "source": [
        "Now that we have created TensorFlow dataset for training and evaluation, we download the pre-trained BIRT model from TessorFlow-Hub and instantiate the tokenizer that will take care of tokenizing the text and preprocessing it in the next section."
      ],
      "metadata": {
        "id": "VXBCSy8v2bLh"
      }
    },
    {
      "cell_type": "markdown",
      "source": [
        "## 4. Download a Pre-trained BERT Model from TensorFlow Hub"
      ],
      "metadata": {
        "id": "6PsmYtL9o-S-"
      }
    },
    {
      "cell_type": "code",
      "source": [
        "\"\"\"\n",
        "Each line of the dataset is composed of the review text and its label\n",
        "- Data preprocessing consists of transforming text to BERT input features:\n",
        "input_word_ids, input_mask, segment_ids\n",
        "- In the process, tokenizing the text is done with the provided BERT model tokenizer\n",
        "\"\"\"\n",
        "\n",
        "label_list = [0, 1]  # Label categories\n",
        "max_seq_length = 128   # maximum length of (token) input sequences (BIRT is limited to 512)\n",
        "train_batch_size = 32\n",
        "\n",
        "\n",
        "# Get BERT layer and tokenizer:\n",
        "# More details here: https://tfhub.dev/tensorflow/bert_en_uncased_L-12_H-768_A-12/2\n",
        "bert_layer = hub.KerasLayer('https://tfhub.dev/tensorflow/bert_en_uncased_L-12_H-768_A-12/2', trainable=True) # we set trainable to True to fine tune all the hyper parameters.\n",
        "\n",
        "# instantiate tokenizer\n",
        "vocab_file = bert_layer.resolved_object.vocab_file.asset_path.numpy()\n",
        "do_lower_case = bert_layer.resolved_object.do_lower_case.numpy()\n",
        "tokenizer = tokenization.FullTokenizer(vocab_file, do_lower_case)"
      ],
      "metadata": {
        "id": "ylcf_228pAGA"
      },
      "execution_count": 8,
      "outputs": []
    },
    {
      "cell_type": "code",
      "source": [
        "# example\n",
        "tokenizer.wordpiece_tokenizer.tokenize('hi, how are you doing today?')"
      ],
      "metadata": {
        "colab": {
          "base_uri": "https://localhost:8080/"
        },
        "id": "-MJ2C_ZNpBOd",
        "outputId": "7cea06be-c818-4782-c12c-303e58b56834"
      },
      "execution_count": 9,
      "outputs": [
        {
          "output_type": "execute_result",
          "data": {
            "text/plain": [
              "['hi', '##,', 'how', 'are', 'you', 'doing', 'today', '##?']"
            ]
          },
          "metadata": {},
          "execution_count": 9
        }
      ]
    },
    {
      "cell_type": "code",
      "source": [
        "# converting to token ids that BIRT requires\n",
        "tokenizer.convert_tokens_to_ids(tokenizer.wordpiece_tokenizer.tokenize('hi, how are you doing today?'))"
      ],
      "metadata": {
        "colab": {
          "base_uri": "https://localhost:8080/"
        },
        "id": "IzqszRwMpD2z",
        "outputId": "a9ea8cfd-c74c-4877-db1b-1217e948f4aa"
      },
      "execution_count": 10,
      "outputs": [
        {
          "output_type": "execute_result",
          "data": {
            "text/plain": [
              "[7632, 29623, 2129, 2024, 2017, 2725, 2651, 29632]"
            ]
          },
          "metadata": {},
          "execution_count": 10
        }
      ]
    },
    {
      "cell_type": "markdown",
      "source": [
        "This is not the full story. We know that each sentence or sequence contains two special tokens. So, once the sentence is tokenized into token ids like above, we will need to prepend a start token clled `CLS` that has a constant value of `101`, and we need to append a seperator token called `SEP` at the end of sequence that has a constant value of `102`. At this point, our token tensors have different length but in TensorFlow all the tensors need to have the same length, specially for the BIRT model. So, we need padding each one of the tensors untill they are the max sequence length. Luckilly, we do not need to do these additional steps, we can leverage the submodules we cloned from the official TensorFlow model repository."
      ],
      "metadata": {
        "id": "_ULdfT33RYHu"
      }
    },
    {
      "cell_type": "markdown",
      "source": [
        "## 5. Tokenize and Preprocess Text for BERT"
      ],
      "metadata": {
        "id": "XjlsvSKmpESf"
      }
    },
    {
      "cell_type": "markdown",
      "source": [
        "We'll need to transform our data into a format BERT understands. This involves two steps. First, we create InputExamples using `classifier_data_lib`'s constructor `InputExample` provided in the BERT library."
      ],
      "metadata": {
        "id": "7LBEQyeBa_s3"
      }
    },
    {
      "cell_type": "code",
      "source": [
        "# This provides a function to convert row to input features and label\n",
        "\n",
        "def to_feature(text, label, label_list=label_list, max_seq_length=max_seq_length, tokenizer=tokenizer):\n",
        "  example = classifier_data_lib.InputExample(guid=None,\n",
        "                                             text_a = text.numpy(),\n",
        "                                             text_b = None,\n",
        "                                             label = label.numpy())\n",
        "  # converting the example into features\n",
        "  feature = classifier_data_lib.convert_single_example(0, example, label_list, max_seq_length, tokenizer) # 0 is the index of the one example\n",
        "\n",
        "  return (feature.input_ids, feature.input_mask, feature.segment_ids, feature.label_id)\n",
        "  \n",
        "\n",
        "\n",
        "# guid: the unique id for each example. Since we are working with one example at the time, we set it as None.\n",
        "# text_a: this the test we want to classify which is in tensor format and we need to get the value of that tensor and we call the .numpy() function on that\n",
        "# text_b: if we were doing a next sentence prediction, we use this arument. But since we are doing one text at a time, we set it to None.\n",
        "# label: we need  to pass a lable for the example"
      ],
      "metadata": {
        "id": "wAldWREtpKVp"
      },
      "execution_count": 11,
      "outputs": []
    },
    {
      "cell_type": "markdown",
      "source": [
        "We cannot directly use this function to create our input data structure. We need to use the `tf.data.Dataset.map` function to apply the function that we just created to each element of our dataset. However, the problem is that `Dataset.map` runs in graph mode, and this is a problem because graph tensors do not have a value. In graph mode you can only use TensorFlow Ops and functions. So, we cannot map the function that we wrote directly to our date and we need to wrap it in a TensorFlow python function class. This will create a wrapper function so that rather than using graph tensors that do not have a value, we pass in regular tensors with a value and a `.numpy()` method so that it is accessible.\n",
        "\n",
        "\n",
        "You want to use [`Dataset.map`](https://www.tensorflow.org/api_docs/python/tf/data/Dataset#map) to apply this function to each element of the dataset. [`Dataset.map`](https://www.tensorflow.org/api_docs/python/tf/data/Dataset#map) runs in graph mode.\n",
        "\n",
        "- Graph tensors do not have a value.\n",
        "- In graph mode you can only use TensorFlow Ops and functions.\n",
        "\n",
        "So you can't `.map` this function directly: You need to wrap it in a [`tf.py_function`](https://www.tensorflow.org/api_docs/python/tf/py_function). The [`tf.py_function`](https://www.tensorflow.org/api_docs/python/tf/py_function) will pass regular tensors (with a value and a `.numpy()` method to access it), to the wrapped python function."
      ],
      "metadata": {
        "id": "y6VYAfXViJzS"
      }
    },
    {
      "cell_type": "markdown",
      "source": [
        "## 6. Wrap a Python Function into a TensorFlow op for Eager Execution"
      ],
      "metadata": {
        "id": "rh4CzF0epL3p"
      }
    },
    {
      "cell_type": "code",
      "source": [
        "def to_feature_map(text, label):\n",
        "  input_ids, input_mask, segment_ids, label_id = tf.py_function(to_feature, inp=[text, label], \n",
        "                                                                Tout=[tf.int32, tf.int32, tf.int32, tf.int32]) # Tout: tensor output type\n",
        "  input_ids.set_shape([max_seq_length]) \n",
        "  input_mask.set_shape([max_seq_length])\n",
        "  segment_ids.set_shape([max_seq_length])\n",
        "  label_id.set_shape([])\n",
        "\n",
        "  x = {\n",
        "      'input_word_ids': input_ids,\n",
        "       'input_mask': input_mask,\n",
        "       'input_type_ids': segment_ids\n",
        "  }\n",
        "\n",
        "  return (x, label_id)"
      ],
      "metadata": {
        "id": "g6Rofpx0pRTn"
      },
      "execution_count": 12,
      "outputs": []
    },
    {
      "cell_type": "markdown",
      "source": [
        "Now that we created our TensorFlow dataset and the function that maps the raw text into the format that BIRT requires, all we need to do is to map our dataset into this function."
      ],
      "metadata": {
        "id": "2DCe3iCeqDOf"
      }
    },
    {
      "cell_type": "markdown",
      "source": [
        "## 7. Create a TensorFlow Input Pipeline with `tf.data`"
      ],
      "metadata": {
        "id": "PR7h99gWpWPA"
      }
    },
    {
      "cell_type": "markdown",
      "source": [
        "Now, we are going to use the `tf.data.Dataset.map` function to glue everything together. This function applys per element transformations to the dataset, so we can use the `Dataset.map` function to do it per element and we can also add a `.batch` function to do it to apply the transformations on batch of elements."
      ],
      "metadata": {
        "id": "8N3eNwnTssyE"
      }
    },
    {
      "cell_type": "code",
      "source": [
        "with tf.device('/cpu:0'):\n",
        "  # train\n",
        "  train_data = (train_data.map(to_feature_map,\n",
        "                               num_parallel_calls=tf.data.experimental.AUTOTUNE)\n",
        "                              .shuffle(1000)\n",
        "                              .batch(32, drop_remainder=True)\n",
        "                              .prefetch(tf.data.experimental.AUTOTUNE))\n",
        "  \n",
        "\n",
        "  # valid\n",
        "  valid_data = (valid_data.map(to_feature_map,\n",
        "                               num_parallel_calls=tf.data.experimental.AUTOTUNE)\n",
        "                              .batch(32, drop_remainder=True)\n",
        "                              .prefetch(tf.data.experimental.AUTOTUNE))\n",
        "\n",
        "\n",
        "# num_parallel_calls: since input elements are independent from each other, the preprocessing can be parallelized and we let tf to decide the number of optimum proccessors to use\n",
        "# shuffle and batch: we are going to shuffle our data and then batch it. we defined batch size as 32 before. And if we have more examples than the batch size we drope them to \n",
        "# make all the batch sizes equal.\n",
        "# prefetch: prefetching is an optimization step that overlaps preprocessing and the model execution of a training step. So, while the model executing a training step n, \n",
        "# the input pipeline is reading data for step n+1, and doing so reduces the step time to the maximum.\n"
      ],
      "metadata": {
        "id": "U7-2KbWypXye"
      },
      "execution_count": 13,
      "outputs": []
    },
    {
      "cell_type": "markdown",
      "source": [
        "The resulting `tf.data.Datasets` return `(features, labels)` pairs, as expected by [`keras.Model.fit`](https://www.tensorflow.org/api_docs/python/tf/keras/Model#fit):"
      ],
      "metadata": {
        "id": "WD4ohEpbBXXU"
      }
    },
    {
      "cell_type": "code",
      "source": [
        "# train data specification\n",
        "train_data.element_spec"
      ],
      "metadata": {
        "colab": {
          "base_uri": "https://localhost:8080/"
        },
        "id": "D3nLxTSHpbHR",
        "outputId": "c05e57f0-4921-4046-9d6b-722eefedcfa1"
      },
      "execution_count": 14,
      "outputs": [
        {
          "output_type": "execute_result",
          "data": {
            "text/plain": [
              "({'input_mask': TensorSpec(shape=(32, 128), dtype=tf.int32, name=None),\n",
              "  'input_type_ids': TensorSpec(shape=(32, 128), dtype=tf.int32, name=None),\n",
              "  'input_word_ids': TensorSpec(shape=(32, 128), dtype=tf.int32, name=None)},\n",
              " TensorSpec(shape=(32,), dtype=tf.int32, name=None))"
            ]
          },
          "metadata": {},
          "execution_count": 14
        }
      ]
    },
    {
      "cell_type": "code",
      "source": [
        "# valid data specification\n",
        "valid_data.element_spec"
      ],
      "metadata": {
        "colab": {
          "base_uri": "https://localhost:8080/"
        },
        "id": "VjwiR_7OpbN0",
        "outputId": "1f6ceb9b-2115-4c43-c803-4946860cb950"
      },
      "execution_count": 15,
      "outputs": [
        {
          "output_type": "execute_result",
          "data": {
            "text/plain": [
              "({'input_mask': TensorSpec(shape=(32, 128), dtype=tf.int32, name=None),\n",
              "  'input_type_ids': TensorSpec(shape=(32, 128), dtype=tf.int32, name=None),\n",
              "  'input_word_ids': TensorSpec(shape=(32, 128), dtype=tf.int32, name=None)},\n",
              " TensorSpec(shape=(32,), dtype=tf.int32, name=None))"
            ]
          },
          "metadata": {},
          "execution_count": 15
        }
      ]
    },
    {
      "cell_type": "markdown",
      "source": [
        "## 8. Add a Classification Head to the BERT Layer"
      ],
      "metadata": {
        "id": "msUBtUT-pb38"
      }
    },
    {
      "cell_type": "markdown",
      "source": [
        "We now have our input data. All we need to do now is define our classification model. With the BIRT layaer from the tf-hub we can pass in out token ids, input ids, the input type ids to our BIRT layer and it is going to give us two outputs: a pooled_output of shape [batch_size, 768] with representations for the entire input sequences and a sequence_output of shape [batch_size, max_seq_length, 768] with representations for each input token (in context)"
      ],
      "metadata": {
        "id": "wnC56VlTCTzC"
      }
    },
    {
      "cell_type": "code",
      "source": [
        "# Building the model\n",
        "def create_model():\n",
        "  input_word_ids = tf.keras.layers.Input(shape=(max_seq_length,), dtype=tf.int32,\n",
        "                                       name=\"input_word_ids\")\n",
        "  input_mask = tf.keras.layers.Input(shape=(max_seq_length,), dtype=tf.int32,\n",
        "                                   name=\"input_mask\")\n",
        "  input_type_ids = tf.keras.layers.Input(shape=(max_seq_length,), dtype=tf.int32,\n",
        "                                    name=\"input_type_ids\")\n",
        "  \n",
        "  pooled_output, sequence_output = bert_layer([input_word_ids, input_mask, input_type_ids])\n",
        "\n",
        "  # if we want we can add some dense layare here, but for the sake of simlisity, we will add some dropout regularization to try to minimize overfitting on the training set.\n",
        "  drop = tf.keras.layers.Dropout(0.4)(pooled_output)\n",
        "  output = tf.keras.layers.Dense(1, activation=\"sigmoid\", name=\"output\")(drop) # it's a binary classification, so we have 1 unit of sigmond function\n",
        "\n",
        "  model = tf.keras.Model(\n",
        "    inputs={\n",
        "        'input_word_ids': input_word_ids,\n",
        "        'input_mask': input_mask,\n",
        "        'input_type_ids': input_type_ids\n",
        "    },\n",
        "    outputs=output)\n",
        "  return model"
      ],
      "metadata": {
        "id": "BkUToeHjpdsT"
      },
      "execution_count": 16,
      "outputs": []
    },
    {
      "cell_type": "markdown",
      "source": [
        "## 9. Fine-Tune BERT for Text Classification"
      ],
      "metadata": {
        "id": "vpIIhWWJpe-B"
      }
    },
    {
      "cell_type": "markdown",
      "source": [
        "Now, we just need to call the function we defined above to create our model and then compile the model. And after these two steps, we can fit the model by `model.fit` method on our data."
      ],
      "metadata": {
        "id": "zg_j-TeeWtjL"
      }
    },
    {
      "cell_type": "code",
      "source": [
        "model = create_model()\n",
        "model.compile(optimizer=tf.keras.optimizers.Adam(learning_rate=2e-5),\n",
        "              loss=tf.keras.losses.BinaryCrossentropy(),\n",
        "              metrics=[tf.keras.metrics.BinaryAccuracy()])\n",
        "model.summary()\n",
        "\n",
        "# we are choosing a very low learning rate to prevent overfitting since the model is over parametrized.\n",
        "# it's a binary classification, so the loss function will be binary crossentropy. If we are doing multi class classification with more labels,\n",
        "# we can use sparse categorical crossentropy. We are not using categorical crossentropy directly because we have not on-hot encoded our labels.\n",
        "# And we use binary accuracy as a metric. Since this is an imbalance classification problem, accuracy is not the best metric, but for the sake of simplicity we use it.\n"
      ],
      "metadata": {
        "colab": {
          "base_uri": "https://localhost:8080/"
        },
        "id": "PxkDmPvQpjYT",
        "outputId": "59b674b8-cdeb-42bb-d7fc-7ddb49c71091"
      },
      "execution_count": 17,
      "outputs": [
        {
          "output_type": "stream",
          "name": "stdout",
          "text": [
            "Model: \"model\"\n",
            "__________________________________________________________________________________________________\n",
            " Layer (type)                   Output Shape         Param #     Connected to                     \n",
            "==================================================================================================\n",
            " input_word_ids (InputLayer)    [(None, 128)]        0           []                               \n",
            "                                                                                                  \n",
            " input_mask (InputLayer)        [(None, 128)]        0           []                               \n",
            "                                                                                                  \n",
            " input_type_ids (InputLayer)    [(None, 128)]        0           []                               \n",
            "                                                                                                  \n",
            " keras_layer (KerasLayer)       [(None, 768),        109482241   ['input_word_ids[0][0]',         \n",
            "                                 (None, 128, 768)]                'input_mask[0][0]',             \n",
            "                                                                  'input_type_ids[0][0]']         \n",
            "                                                                                                  \n",
            " dropout (Dropout)              (None, 768)          0           ['keras_layer[0][0]']            \n",
            "                                                                                                  \n",
            " output (Dense)                 (None, 1)            769         ['dropout[0][0]']                \n",
            "                                                                                                  \n",
            "==================================================================================================\n",
            "Total params: 109,483,010\n",
            "Trainable params: 109,483,009\n",
            "Non-trainable params: 1\n",
            "__________________________________________________________________________________________________\n"
          ]
        }
      ]
    },
    {
      "cell_type": "markdown",
      "source": [
        "As you can see, we have our **input_word_ids**, **input_mask**, and **input_type_ids**, this is fed into a keras layer afer which we have our dropout regularization layer followed by one Sigmoid unit for classification. To illustrate the above infromation, we can use keras utility called `.plot_model`."
      ],
      "metadata": {
        "id": "1BpdOgVOYEqi"
      }
    },
    {
      "cell_type": "code",
      "source": [
        "tf.keras.utils.plot_model(model=model, show_shapes=True, dpi=76, )"
      ],
      "metadata": {
        "colab": {
          "base_uri": "https://localhost:8080/",
          "height": 338
        },
        "id": "pcXUS19mpj4l",
        "outputId": "241d570c-f700-4969-eb00-57e2863518cb"
      },
      "execution_count": 18,
      "outputs": [
        {
          "output_type": "execute_result",
          "data": {
            "image/png": "[encoded data removed]",
            "text/plain": [
              "<IPython.core.display.Image object>"
            ]
          },
          "metadata": {},
          "execution_count": 18
        }
      ]
    },
    {
      "cell_type": "markdown",
      "source": [
        "The above model architecture is not very accurate, because one drawback of using `tf.hub` is that it condenses the entire transformer or BIRT model into one layer and we cannot see the details inside it. We can say that the above is a general form of how our model is defined.\n",
        "\n",
        "Now it is time to feed our model into our data."
      ],
      "metadata": {
        "id": "oN4fUGeVZhqN"
      }
    },
    {
      "cell_type": "code",
      "source": [
        "# Train model\n",
        "# since we are fine-tunning, we can fine-tune for X number of epochs before it starts overfitting\n",
        "epochs = 4\n",
        "history = model.fit(train_data,\n",
        "                    validation_data=valid_data,\n",
        "                    epochs=epochs,\n",
        "                    verbose=1) # we set it to 1 because we do not want a lot of output to be generated"
      ],
      "metadata": {
        "colab": {
          "base_uri": "https://localhost:8080/"
        },
        "id": "iAOaqy4Ipj_f",
        "outputId": "779d3cc5-0634-4917-e8bb-1ff5c0f4d00e"
      },
      "execution_count": 19,
      "outputs": [
        {
          "output_type": "stream",
          "name": "stdout",
          "text": [
            "Epoch 1/4\n",
            "306/306 [==============================] - 515s 2s/step - loss: 0.1985 - binary_accuracy: 0.9307 - val_loss: 0.1225 - val_binary_accuracy: 0.9563\n",
            "Epoch 2/4\n",
            "306/306 [==============================] - 501s 2s/step - loss: 0.1010 - binary_accuracy: 0.9631 - val_loss: 0.1350 - val_binary_accuracy: 0.9604\n",
            "Epoch 3/4\n",
            "306/306 [==============================] - 501s 2s/step - loss: 0.0571 - binary_accuracy: 0.9810 - val_loss: 0.1568 - val_binary_accuracy: 0.9604\n",
            "Epoch 4/4\n",
            "306/306 [==============================] - 501s 2s/step - loss: 0.0308 - binary_accuracy: 0.9903 - val_loss: 0.1988 - val_binary_accuracy: 0.9365\n"
          ]
        }
      ]
    },
    {
      "cell_type": "markdown",
      "source": [
        "From the above numbers we can see that we are still overfitting on our training dataset, we start overfitting from the second epoch. Given all other things constant, maybe we should have trained for fewer epochs, 2 or 3 epochs, or we could modify our model architecture, adding more regularizations, we can experiment with the number of layers we are using, and so on."
      ],
      "metadata": {
        "id": "kjsRkkcsbcqs"
      }
    },
    {
      "cell_type": "markdown",
      "source": [
        "## 10. Evaluate the BERT Text Classification Model"
      ],
      "metadata": {
        "id": "JYHzkw41pkqs"
      }
    },
    {
      "cell_type": "code",
      "source": [
        "def plot_graphs(history, metric):\n",
        "  plt.plot(history.history[metric])\n",
        "  plt.plot(history.history['val_'+metric], '')\n",
        "  plt.xlabel(\"Epochs\")\n",
        "  plt.ylabel(metric)\n",
        "  plt.legend([metric, 'val_'+metric])\n",
        "  plt.show()"
      ],
      "metadata": {
        "id": "P9iowQuSpn13"
      },
      "execution_count": 20,
      "outputs": []
    },
    {
      "cell_type": "code",
      "source": [
        "plot_graphs(history, 'binary_accuracy')"
      ],
      "metadata": {
        "colab": {
          "base_uri": "https://localhost:8080/",
          "height": 279
        },
        "id": "04OH7BV5pojT",
        "outputId": "e7c8ce67-c037-44fa-9fb7-044bc6054f3c"
      },
      "execution_count": 21,
      "outputs": [
        {
          "output_type": "display_data",
          "data": {
            "image/png": "[encoded data removed]",
            "text/plain": [
              "<Figure size 432x288 with 1 Axes>"
            ]
          },
          "metadata": {
            "needs_background": "light"
          }
        }
      ]
    },
    {
      "cell_type": "code",
      "source": [
        "plot_graphs(history, 'loss')"
      ],
      "metadata": {
        "colab": {
          "base_uri": "https://localhost:8080/",
          "height": 279
        },
        "id": "5WRRJo-4poso",
        "outputId": "1ec54f7b-c8b7-44e3-a135-5d8d367802c5"
      },
      "execution_count": 22,
      "outputs": [
        {
          "output_type": "display_data",
          "data": {
            "image/png": "[encoded data removed]",
            "text/plain": [
              "<Figure size 432x288 with 1 Axes>"
            ]
          },
          "metadata": {
            "needs_background": "light"
          }
        }
      ]
    },
    {
      "cell_type": "markdown",
      "source": [
        "Based on the graphs we can see that we are overfitting on our training data. This is one of the challenges of using BIRT, to figure out how not to overfit."
      ],
      "metadata": {
        "id": "hf_5vcznc6pX"
      }
    },
    {
      "cell_type": "code",
      "source": [
        "model.evaluate(valid_data, verbose=1)"
      ],
      "metadata": {
        "colab": {
          "base_uri": "https://localhost:8080/"
        },
        "id": "URAyt4XI9L3v",
        "outputId": "00e5127c-a79a-4db9-d8a4-da844f4f81de"
      },
      "execution_count": 23,
      "outputs": [
        {
          "output_type": "stream",
          "name": "stdout",
          "text": [
            "30/30 [==============================] - 17s 562ms/step - loss: 0.1988 - binary_accuracy: 0.9365\n"
          ]
        },
        {
          "output_type": "execute_result",
          "data": {
            "text/plain": [
              "[0.19877709448337555, 0.9364583492279053]"
            ]
          },
          "metadata": {},
          "execution_count": 23
        }
      ]
    },
    {
      "cell_type": "markdown",
      "source": [
        "The following is an example of how we can use our model to evaluate if a question is sincere or not."
      ],
      "metadata": {
        "id": "1lKdJFFPeuzU"
      }
    },
    {
      "cell_type": "code",
      "source": [
        "sample_example = [\"do you think that can help others?\",\\\n",
        "                  \"why do people think they know everything?\",\\\n",
        "                  \"may I ask you some personal questions?\",\\\n",
        "                  \"what is your phone number?\",\\\n",
        "                  \"do you beleive in God?\",\\\n",
        "                  \"this is stupid, why are you supporting this?\"]\n",
        "test_data = tf.data.Dataset.from_tensor_slices((sample_example, [0]*len(sample_example)))\n",
        "test_data = (test_data.map(to_feature_map).batch(1))\n",
        "preds = model.predict(test_data)\n",
        "['Toxic' if pred >=0.5 else 'Sincere' for pred in preds]"
      ],
      "metadata": {
        "colab": {
          "base_uri": "https://localhost:8080/"
        },
        "id": "hTCOLViE9Vp1",
        "outputId": "54ecce66-e542-4f82-8f59-51e2b253ce3a"
      },
      "execution_count": 24,
      "outputs": [
        {
          "output_type": "execute_result",
          "data": {
            "text/plain": [
              "['Sincere', 'Toxic', 'Sincere', 'Sincere', 'Sincere', 'Toxic']"
            ]
          },
          "metadata": {},
          "execution_count": 24
        }
      ]
    },
    {
      "cell_type": "code",
      "source": [
        "preds"
      ],
      "metadata": {
        "colab": {
          "base_uri": "https://localhost:8080/"
        },
        "id": "_Ot8xesI9XQ0",
        "outputId": "e182c68d-7757-4e64-a97d-ad605b2b7fa5"
      },
      "execution_count": 25,
      "outputs": [
        {
          "output_type": "execute_result",
          "data": {
            "text/plain": [
              "array([[2.8941460e-04],\n",
              "       [9.1969085e-01],\n",
              "       [4.5977419e-04],\n",
              "       [3.3646409e-04],\n",
              "       [7.0633995e-04],\n",
              "       [9.5731437e-01]], dtype=float32)"
            ]
          },
          "metadata": {},
          "execution_count": 25
        }
      ]
    }
  ]
}